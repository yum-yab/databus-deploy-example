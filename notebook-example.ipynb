{
 "cells": [
  {
   "cell_type": "code",
   "execution_count": null,
   "metadata": {},
   "outputs": [],
   "source": [
    "import requests"
   ]
  },
  {
   "cell_type": "code",
   "execution_count": 2,
   "id": "cbca1b04",
   "metadata": {},
   "outputs": [],
   "source": [
    "def deploy_to_databus(user: str, passwd: str, dataid: str, uri: str):\n",
    "    try:\n",
    "        data = {\n",
    "            \"client_id\": \"upload-api\",\n",
    "            \"username\": user,\n",
    "            \"password\": passwd,\n",
    "            \"grant_type\": \"password\",\n",
    "        }\n",
    "\n",
    "        print(\"Accessing new token...\")\n",
    "        token_response = requests.post(\n",
    "            \"https://databus.dbpedia.org/auth/realms/databus/protocol/openid-connect/token\",\n",
    "            data=data,\n",
    "        )\n",
    "        print(f\"Response: Status {token_response.status_code}; Text: {token_response.text}\")\n",
    "\n",
    "        token = token_response.json()[\"access_token\"]\n",
    "\n",
    "    except Exception as e:\n",
    "        print(f\"ERROR: {str(e)}\")\n",
    "        sys.exit(1)\n",
    "\n",
    "\n",
    "    headers = {\"Authorization\": \"Bearer \" + token}\n",
    "\n",
    "    print(f\"Deploying {dbobj.get_target_uri()}\")\n",
    "    response = requests.put(\n",
    "        uri, headers=headers, data=dataid\n",
    "    )\n",
    "    print(f\"Response: Status {response.status_code}; Text: {response.text}\")"
   ]
  },
  {
   "cell_type": "code",
   "execution_count": null,
   "id": "5b6127af",
   "metadata": {},
   "outputs": [],
   "source": [
    "groupid = \"\"\"{\"@context\": \"https://raw.githubusercontent.com/dbpedia/databus-git-mockup/main/dev/context.jsonld\", \"@graph\": [{\"@id\": \"https://databus.dbpedia.org/denis/lod-geoss-example\", \"@type\": \"Group\", \"label\": {\"@value\": \"LOD GEOSS Example\", \"@language\": \"en\"}, \"title\": {\"@value\": \"LOD GEOSS Example\", \"@language\": \"en\"}, \"comment\": {\"@value\": \"Lorem ipsum dolor sit amet, consetetur sadipscing elitr.\", \"@language\": \"en\"}, \"abstract\": {\"@value\": \"Lorem ipsum dolor sit amet, consetetur sadipscing elitr.\", \"@language\": \"en\"}, \"description\": {\"@value\": \"Lorem ipsum dolor sit amet, consetetur sadipscing elitr.\", \"@language\": \"en\"}}]}\"\"\""
   ]
  },
  {
   "cell_type": "code",
   "execution_count": null,
   "id": "0ff08c34",
   "metadata": {},
   "outputs": [],
   "source": [
    "dataid = \"\"\"{\"@context\": \"https://raw.githubusercontent.com/dbpedia/databus-git-mockup/main/dev/context.jsonld\", \"@graph\": [{\"@type\": \"dataid:Dataset\", \"@id\": \"https://databus.dbpedia.org/denis/lod-geoss-example/api-example/2021-05-10#Dataset\", \"version\": \"https://databus.dbpedia.org/denis/lod-geoss-example/api-example/2021-05-10\", \"artifact\": \"https://databus.dbpedia.org/denis/lod-geoss-example/api-example\", \"group\": \"https://databus.dbpedia.org/denis/lod-geoss-example\", \"hasVersion\": \"2021-05-10\", \"issued\": \"2021-05-10T10:37:50Z\", \"publisher\": \"https://yum-yab.github.io/webid.ttl#this\", \"label\": {\"@value\": \"API example\", \"@language\": \"en\"}, \"title\": {\"@value\": \"API example\", \"@language\": \"en\"}, \"comment\": {\"@value\": \"This is a short comment about the test.\", \"@language\": \"en\"}, \"abstract\": {\"@value\": \"This a short abstract for the dataset. Since this is only a test it is quite insignificant.\", \"@language\": \"en\"}, \"description\": {\"@value\": \"A bit longer description of the dataset.\", \"@language\": \"en\"}, \"license\": {\"@id\": \"http://creativecommons.org/licenses/by/4.0/\"}, \"distribution\": [{\"@id\": \"https://databus.dbpedia.org/denis/lod-geoss-example/api-example/2021-05-10#type=turbineData.json\", \"file\": \"https://databus.dbpedia.org/denis/lod-geoss-example/api-example/2021-05-10/api-example_type=turbineData.json\", \"@type\": \"dataid:SingleFile\", \"formatExtension\": \"json\", \"compression\": \"none\", \"downloadURL\": \"https://openenergy-platform.org/api/v0/schema/supply/tables/wind_turbine_library/rows/\", \"byteSize\": \"170171\", \"sha256sum\": \"af7b3594156ae9753eab55fa9dacbd2b352b8e75af2ec5068a09473014859816\", \"hasVersion\": \"2021-05-10\", \"dataid-cv:type\": \"turbineData\"}]}, {\"@type\": \"rdf:Property\", \"@id\": \"dataid-cv:type\", \"rdfs:subPropertyOf\": {\"@id\": \"dataid:contentVariant\"}}]}\"\"\""
   ]
  },
  {
   "cell_type": "code",
   "execution_count": null,
   "id": "4df24895",
   "metadata": {},
   "outputs": [],
   "source": [
    "deploy_to_databus(\"denis\", \"supergeheimes-passwort\", dataid, \"https://databus.dbpedia.org/denis/lod-geoss-example/api-example/2021-05-10\")"
   ]
  },
  {
   "cell_type": "code",
   "execution_count": null,
   "id": "f0fee5ba",
   "metadata": {},
   "outputs": [],
   "source": [
    "deploy_to_databus(\"denis\", \"supergeheimes-passwort\", groupid, \"https://databus.dbpedia.org/denis/lod-geoss-example\")"
   ]
  }
 ],
 "metadata": {
  "kernelspec": {
   "display_name": "Python 3",
   "language": "python",
   "name": "python3"
  },
  "language_info": {
   "codemirror_mode": {
    "name": "ipython",
    "version": 3
   },
   "file_extension": ".py",
   "mimetype": "text/x-python",
   "name": "python",
   "nbconvert_exporter": "python",
   "pygments_lexer": "ipython3",
   "version": "3.8.6"
  }
 },
 "nbformat": 4,
 "nbformat_minor": 5
}